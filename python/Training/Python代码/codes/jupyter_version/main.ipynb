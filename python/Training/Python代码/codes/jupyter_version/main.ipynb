{
 "cells": [
  {
   "cell_type": "markdown",
   "metadata": {},
   "source": [
    "# 实战案例：员工离职原因分析及预测\n",
    "\n",
    "* 项目：员工离职原因分析及预测\n",
    "* 作者：[梁斌](https://drbinliang.github.io/)\n",
    "* 日期：2017/10\n",
    "* 提问：[小象问答](http://wenda.chinahadoop.cn/)\n",
    "* 声明：[小象学院](http://www.chinahadoop.cn/)拥有完全知识产权的权利；只限于善意学习者在本课程使用，不得在课程范围外向任何第三方散播。任何其他人或机构不得盗版、复制、仿造其中的创意，我们将保留一切通过法律手段追究违反者的权利"
   ]
  },
  {
   "cell_type": "markdown",
   "metadata": {},
   "source": [
    "## 1. 项目描述：\n",
    "人才流失已经成了很多企业正在面临的困境，关键人才的流程对企业的影响尤为明显。关键人才是非常稀缺的，面临着各个竞争对手的挖角而那里保留。客户为中心是很多企业的经营指标，而我们知道满意的客户来自于满意的员工，这层关系是非常深刻而明显的，所以提高员工满意度并了解员工真正不满意的原因就显得非常重要。为了达到这个目的，针对员工保留、提高员工忠诚度的预测性分析讲义非常重要的战略工具。随着大数据技术的发展，不少的人力资源软件供应商都已经开始关注相关问题。"
   ]
  },
  {
   "cell_type": "markdown",
   "metadata": {},
   "source": [
    "## 2. 数据集描述:\n",
    "* DataCastle[提供的数据集](http://www.pkbigdata.com/common/cmpt/%E5%91%98%E5%B7%A5%E7%A6%BB%E8%81%8C%E9%A2%84%E6%B5%8B%E8%AE%AD%E7%BB%83%E8%B5%9B_%E7%AB%9E%E8%B5%9B%E4%BF%A1%E6%81%AF.html)\n",
    "* 数据主要包括影响员工离职的各种因素（工资、出差、工作环境满意度、工作投入度、是否加班、是否升职、工资提升比例等）以及员工是否已经离职的对应记录。数据分为训练数据和测试数据，分别保存在train.csv和test.csv两个文件中。训练数据主要包括1100条记录，31个字段。\n",
    "* 数据字典\n",
    "    * Age：员工年龄\n",
    "    * Attrition：员工是否已经离职，1表示已经离职，2表示未离职，这是目标预测值；\n",
    "    * BusinessTravel：商务差旅频率，Non-Travel表示不出差，Travel_Rarely表示不经常出差，Travel_Frequently表示经常出差；\n",
    "    * Department：员工所在部门，Sales表示销售部，Research & Development表示研发部，Human Resources表示人力资源部；\n",
    "    * DistanceFromHome：公司跟家庭住址的距离，从1到29，1表示最近，29表示最远；\n",
    "    * Education：员工的教育程度，从1到5，5表示教育程度最高；\n",
    "    * EducationField：员工所学习的专业领域，Life Sciences表示生命科学，Medical表示医疗，Marketing表示市场营销，Technical Degree表示技术学位，Human Resources表示人力资源，Other表示其他；\n",
    "    * EmployeeNumber：员工号码；\n",
    "    * EnvironmentSatisfaction：员工对于工作环境的满意程度，从1到4，1的满意程度最低，4的满意程度最高；\n",
    "    * Gender：员工性别，Male表示男性，Female表示女性；\n",
    "    * JobInvolvement：员工工作投入度，从1到4，1为投入度最低，4为投入度最高；\n",
    "    * JobLevel：职业级别，从1到5，1为最低级别，5为最高级别；\n",
    "    * JobRole：工作角色：Sales Executive是销售主管，Research Scientist是科学研究员，Laboratory Technician实验室技术员，Manufacturing Director是制造总监，Healthcare Representative是医疗代表，Manager是经理，Sales Representative是销售代表，Research Director是研究总监，Human Resources是人力资源；\n",
    "    * JobSatisfaction：工作满意度，从1到4，1代表满意程度最低，4代表满意程度最高；\n",
    "    * MaritalStatus：员工婚姻状况，Single代表单身，Married代表已婚，Divorced代表离婚；\n",
    "    * MonthlyIncome：员工月收入，范围在1009到19999之间；\n",
    "    * NumCompaniesWorked：员工曾经工作过的公司数；\n",
    "    * Over18：年龄是否超过18岁；\n",
    "    * OverTime：是否加班，Yes表示加班，No表示不加班；\n",
    "    * PercentSalaryHike：工资提高的百分比；\n",
    "    * PerformanceRating：绩效评估；\n",
    "    * RelationshipSatisfaction：关系满意度，从1到4，1表示满意度最低，4表示满意度最高；\n",
    "    * StandardHours：标准工时；\n",
    "    * StockOptionLevel：股票期权水平；\n",
    "    * TotalWorkingYears：总工龄；\n",
    "    * TrainingTimesLastYear：上一年的培训时长，从0到6，0表示没有培训，6表示培训时间最长；\n",
    "    * WorkLifeBalance：工作与生活平衡程度，从1到4，1表示平衡程度最低，4表示平衡程度最高；\n",
    "    * YearsAtCompany：在目前公司工作年数；\n",
    "    * YearsInCurrentRole：在目前工作职责的工作年数\n",
    "    * YearsSinceLastPromotion：距离上次升职时长\n",
    "    * YearsWithCurrManager：跟目前的管理者共事年数；"
   ]
  },
  {
   "cell_type": "markdown",
   "metadata": {},
   "source": [
    "## 3. 项目任务：\n",
    "* 3.1 查看分析数据\n",
    "* 3.2 通过由训练数据所建立的模型以及所给的测试数据，得出测试数据相应的员工是否已经离职的预测。"
   ]
  },
  {
   "cell_type": "markdown",
   "metadata": {},
   "source": [
    "## 4. 项目实现："
   ]
  },
  {
   "cell_type": "markdown",
   "metadata": {},
   "source": [
    "## 4.1 查看分析数据"
   ]
  },
  {
   "cell_type": "code",
   "execution_count": null,
   "metadata": {
    "collapsed": true
   },
   "outputs": [],
   "source": [
    "# 引入必要的包\n",
    "import pandas as pd\n",
    "import numpy as np\n",
    "import seaborn as sns\n",
    "import matplotlib.pyplot as plt\n",
    "from sklearn import preprocessing\n",
    "\n",
    "%matplotlib inline"
   ]
  },
  {
   "cell_type": "code",
   "execution_count": null,
   "metadata": {
    "collapsed": false
   },
   "outputs": [],
   "source": [
    "# 加载数据\n",
    "sample_data = pd.read_csv('../dataset/train.csv')\n",
    "# 预览数据\n",
    "sample_data.head()"
   ]
  },
  {
   "cell_type": "code",
   "execution_count": null,
   "metadata": {
    "collapsed": false
   },
   "outputs": [],
   "source": [
    "sample_data.info()"
   ]
  },
  {
   "cell_type": "code",
   "execution_count": null,
   "metadata": {
    "collapsed": false
   },
   "outputs": [],
   "source": [
    "sample_data.describe()"
   ]
  },
  {
   "cell_type": "code",
   "execution_count": null,
   "metadata": {
    "collapsed": false
   },
   "outputs": [],
   "source": [
    "# 正负样本的比例\n",
    "pos_data = sample_data[sample_data['Attrition'] == 1]\n",
    "neg_data = sample_data[sample_data['Attrition'] == 0]\n",
    "print('正样本记录数：{}，所占比例：{}'.format(len(pos_data), len(pos_data) / len(sample_data)))\n",
    "print('负样本记录数：{}，所占比例：{}'.format(len(neg_data), len(neg_data) / len(sample_data)))"
   ]
  },
  {
   "cell_type": "code",
   "execution_count": null,
   "metadata": {
    "collapsed": false
   },
   "outputs": [],
   "source": [
    "plt.figure()\n",
    "sns.countplot(x='Attrition', data=sample_data, hue='Education')"
   ]
  },
  {
   "cell_type": "code",
   "execution_count": null,
   "metadata": {
    "collapsed": false
   },
   "outputs": [],
   "source": [
    "# 单变量关系\n",
    "plt.figure()\n",
    "\n",
    "# 离职与年龄的关系\n",
    "plt.subplot(2, 2, 1)\n",
    "sns.boxplot(x='Attrition', y='Age', data=sample_data)\n",
    "\n",
    "# 离职与家庭和公司距离的关系\n",
    "plt.subplot(2, 2, 2)\n",
    "sns.boxplot(x='Attrition', y='DistanceFromHome', data=sample_data)\n",
    "\n",
    "# 离职与月收入的关系\n",
    "plt.subplot(2, 2, 3)\n",
    "sns.boxplot(x='Attrition', y='MonthlyIncome', data=sample_data)\n",
    "\n",
    "# 离职与曾经工作公司数的关系\n",
    "plt.subplot(2, 2, 4)\n",
    "sns.boxplot(x='Attrition', y='NumCompaniesWorked', data=sample_data)"
   ]
  },
  {
   "cell_type": "code",
   "execution_count": null,
   "metadata": {
    "collapsed": false
   },
   "outputs": [],
   "source": [
    "plt.figure()\n",
    "\n",
    "# 离职与婚姻状况的关系\n",
    "plt.subplot(2, 1, 1)\n",
    "sns.countplot(x='Attrition', hue='MaritalStatus', data=sample_data)\n",
    "\n",
    "# 离职与性别的关系\n",
    "plt.subplot(2, 1, 2)\n",
    "sns.countplot(x='Attrition', hue='Gender', data=sample_data)"
   ]
  },
  {
   "cell_type": "code",
   "execution_count": null,
   "metadata": {
    "collapsed": false
   },
   "outputs": [],
   "source": [
    "# 多变量关系\n",
    "sns.pairplot(sample_data, hue='Attrition', vars=['Age', 'MonthlyIncome', 'NumCompaniesWorked', 'PercentSalaryHike',\n",
    "                                               'TotalWorkingYears', 'TrainingTimesLastYear', 'YearsAtCompany', 'YearsInCurrentRole',\n",
    "                                               'YearsSinceLastPromotion', 'YearsWithCurrManager'])"
   ]
  },
  {
   "cell_type": "markdown",
   "metadata": {},
   "source": [
    "## 4.2 离职预测"
   ]
  },
  {
   "cell_type": "markdown",
   "metadata": {},
   "source": [
    "### 4.2.1 数据处理"
   ]
  },
  {
   "cell_type": "code",
   "execution_count": null,
   "metadata": {
    "collapsed": false
   },
   "outputs": [],
   "source": [
    "# 数值型数据\n",
    "num_cols = ['Age', 'MonthlyIncome', 'NumCompaniesWorked', 'PercentSalaryHike', 'TotalWorkingYears', 'TrainingTimesLastYear',\n",
    "           'YearsAtCompany', 'YearsInCurrentRole', 'YearsSinceLastPromotion', 'YearsWithCurrManager']\n",
    "# 类别型数据\n",
    "# 所有类别型数据\n",
    "# cat_cols = ['BusinessTravel', 'Department', 'EducationField', 'Gender', 'JobRole', 'MaritalStatus', 'Over18', 'OverTime']\n",
    "# 本案例只选取3个作为例子\n",
    "cat_cols = ['Gender', 'MaritalStatus', 'OverTime']\n",
    "# 有序类别数据\n",
    "ord_cols = ['DistanceFromHome', 'Education', 'EnvironmentSatisfaction', 'JobInvolvement', 'JobLevel', 'JobSatisfaction',\n",
    "           'PerformanceRating', 'RelationshipSatisfaction', 'StockOptionLevel', 'WorkLifeBalance']\n",
    "\n",
    "# 目标列\n",
    "target_col = ['Attrition']\n",
    "\n",
    "# 所有特征列\n",
    "total_cols = num_cols + cat_cols + ord_cols\n",
    "\n",
    "used_data = sample_data[total_cols + target_col]\n",
    "\n",
    "print('使用{}列数据作为特征'.format(len(total_cols)))"
   ]
  },
  {
   "cell_type": "code",
   "execution_count": 5,
   "metadata": {
    "collapsed": false
   },
   "outputs": [
    {
     "ename": "NameError",
     "evalue": "name 'used_data' is not defined",
     "output_type": "error",
     "traceback": [
      "\u001b[0;31m---------------------------------------------------------------------------\u001b[0m",
      "\u001b[0;31mNameError\u001b[0m                                 Traceback (most recent call last)",
      "\u001b[0;32m<ipython-input-5-9ea32cc32b2c>\u001b[0m in \u001b[0;36m<module>\u001b[0;34m()\u001b[0m\n\u001b[1;32m      3\u001b[0m \u001b[1;31m# 正负样本的比例\u001b[0m\u001b[1;33m\u001b[0m\u001b[1;33m\u001b[0m\u001b[0m\n\u001b[1;32m      4\u001b[0m \u001b[1;33m\u001b[0m\u001b[0m\n\u001b[0;32m----> 5\u001b[0;31m \u001b[0mpos_data\u001b[0m \u001b[1;33m=\u001b[0m \u001b[0mused_data\u001b[0m\u001b[1;33m[\u001b[0m\u001b[0mused_data\u001b[0m\u001b[1;33m[\u001b[0m\u001b[1;34m'Attrition'\u001b[0m\u001b[1;33m]\u001b[0m \u001b[1;33m==\u001b[0m \u001b[1;36m1\u001b[0m\u001b[1;33m]\u001b[0m\u001b[1;33m.\u001b[0m\u001b[0mreindex\u001b[0m\u001b[1;33m(\u001b[0m\u001b[1;33m)\u001b[0m\u001b[1;33m\u001b[0m\u001b[0m\n\u001b[0m\u001b[1;32m      6\u001b[0m \u001b[0mtrain_pos_data\u001b[0m \u001b[1;33m=\u001b[0m \u001b[0mpos_data\u001b[0m\u001b[1;33m.\u001b[0m\u001b[0miloc\u001b[0m\u001b[1;33m[\u001b[0m\u001b[1;33m:\u001b[0m\u001b[0mint\u001b[0m\u001b[1;33m(\u001b[0m\u001b[0mlen\u001b[0m\u001b[1;33m(\u001b[0m\u001b[0mpos_data\u001b[0m\u001b[1;33m)\u001b[0m \u001b[1;33m*\u001b[0m \u001b[1;36m0.8\u001b[0m\u001b[1;33m)\u001b[0m\u001b[1;33m]\u001b[0m\u001b[1;33m.\u001b[0m\u001b[0mcopy\u001b[0m\u001b[1;33m(\u001b[0m\u001b[1;33m)\u001b[0m\u001b[1;33m\u001b[0m\u001b[0m\n\u001b[1;32m      7\u001b[0m \u001b[0mtest_pos_data\u001b[0m \u001b[1;33m=\u001b[0m \u001b[0mpos_data\u001b[0m\u001b[1;33m.\u001b[0m\u001b[0miloc\u001b[0m\u001b[1;33m[\u001b[0m\u001b[0mint\u001b[0m\u001b[1;33m(\u001b[0m\u001b[0mlen\u001b[0m\u001b[1;33m(\u001b[0m\u001b[0mpos_data\u001b[0m\u001b[1;33m)\u001b[0m \u001b[1;33m*\u001b[0m \u001b[1;36m0.8\u001b[0m\u001b[1;33m)\u001b[0m \u001b[1;33m:\u001b[0m\u001b[1;33m]\u001b[0m\u001b[1;33m.\u001b[0m\u001b[0mcopy\u001b[0m\u001b[1;33m(\u001b[0m\u001b[1;33m)\u001b[0m\u001b[1;33m\u001b[0m\u001b[0m\n",
      "\u001b[0;31mNameError\u001b[0m: name 'used_data' is not defined"
     ]
    }
   ],
   "source": [
    "# 分割训练集，测试集，80%作为训练集，20%作为测试集\n",
    "# 保证训练集和测试集中的正负样本的比例一样\n",
    "# 正负样本的比例\n",
    "\n",
    "pos_data = used_data[used_data['Attrition'] == 1].reindex()\n",
    "train_pos_data = pos_data.iloc[:int(len(pos_data) * 0.8)].copy()\n",
    "test_pos_data = pos_data.iloc[int(len(pos_data) * 0.8) :].copy()\n",
    "\n",
    "neg_data = used_data[used_data['Attrition'] == 0].reindex()\n",
    "train_neg_data = neg_data.iloc[:int(len(neg_data) * 0.8)].copy()\n",
    "test_neg_data = neg_data.iloc[int(len(neg_data) * 0.8) :].copy()\n",
    "\n",
    "train_data = pd.concat([train_pos_data, train_neg_data])\n",
    "test_data = pd.concat([test_pos_data, test_neg_data])"
   ]
  },
  {
   "cell_type": "code",
   "execution_count": null,
   "metadata": {
    "collapsed": false
   },
   "outputs": [],
   "source": [
    "print('训练集数据个数', len(train_data))\n",
    "print('正负样本比例', len(train_pos_data) / len(train_neg_data))\n",
    "train_data.head()"
   ]
  },
  {
   "cell_type": "code",
   "execution_count": null,
   "metadata": {
    "collapsed": false
   },
   "outputs": [],
   "source": [
    "print('测试集数据个数', len(test_data))\n",
    "print('正负样本比例', len(test_pos_data) / len(test_neg_data))\n",
    "test_data.head()"
   ]
  },
  {
   "cell_type": "markdown",
   "metadata": {},
   "source": [
    "### 4.2.2 特征工程"
   ]
  },
  {
   "cell_type": "code",
   "execution_count": null,
   "metadata": {
    "collapsed": true
   },
   "outputs": [],
   "source": [
    "# 对类别型数据进行“独热编码” One-Hot Encoding\n",
    "\n",
    "# 先进行Label Encoding\n",
    "# Gender数据\n",
    "gender_label_enc = preprocessing.LabelEncoder()\n",
    "train_data['Gender_Label'] = gender_label_enc.fit_transform(train_data['Gender'])\n",
    "\n",
    "# MaritalStatus数据\n",
    "marital_label_enc = preprocessing.LabelEncoder()\n",
    "train_data['Marital_Label'] = marital_label_enc.fit_transform(train_data['MaritalStatus'])\n",
    "\n",
    "# OverTime数据\n",
    "ot_label_enc = preprocessing.LabelEncoder()\n",
    "train_data['OT_Label'] = ot_label_enc.fit_transform(train_data['OverTime'])"
   ]
  },
  {
   "cell_type": "code",
   "execution_count": 6,
   "metadata": {
    "collapsed": false
   },
   "outputs": [
    {
     "name": "stdout",
     "output_type": "stream",
     "text": [
      "Gender数据:\n"
     ]
    },
    {
     "ename": "NameError",
     "evalue": "name 'train_data' is not defined",
     "output_type": "error",
     "traceback": [
      "\u001b[0;31m---------------------------------------------------------------------------\u001b[0m",
      "\u001b[0;31mNameError\u001b[0m                                 Traceback (most recent call last)",
      "\u001b[0;32m<ipython-input-6-037e2959afc3>\u001b[0m in \u001b[0;36m<module>\u001b[0;34m()\u001b[0m\n\u001b[1;32m      1\u001b[0m \u001b[1;32mprint\u001b[0m\u001b[1;33m(\u001b[0m\u001b[1;34m'Gender数据:'\u001b[0m\u001b[1;33m)\u001b[0m\u001b[1;33m\u001b[0m\u001b[0m\n\u001b[0;32m----> 2\u001b[0;31m \u001b[1;32mprint\u001b[0m\u001b[1;33m(\u001b[0m\u001b[0mtrain_data\u001b[0m\u001b[1;33m.\u001b[0m\u001b[0mgroupby\u001b[0m\u001b[1;33m(\u001b[0m\u001b[1;34m'Gender_Label'\u001b[0m\u001b[1;33m)\u001b[0m\u001b[1;33m.\u001b[0m\u001b[0msize\u001b[0m\u001b[1;33m(\u001b[0m\u001b[1;33m)\u001b[0m\u001b[1;33m)\u001b[0m\u001b[1;33m\u001b[0m\u001b[0m\n\u001b[0m\u001b[1;32m      3\u001b[0m \u001b[1;33m\u001b[0m\u001b[0m\n\u001b[1;32m      4\u001b[0m \u001b[1;32mprint\u001b[0m\u001b[1;33m(\u001b[0m\u001b[1;33m)\u001b[0m\u001b[1;33m\u001b[0m\u001b[0m\n\u001b[1;32m      5\u001b[0m \u001b[1;32mprint\u001b[0m\u001b[1;33m(\u001b[0m\u001b[1;34m'MaritalStatus数据:'\u001b[0m\u001b[1;33m)\u001b[0m\u001b[1;33m\u001b[0m\u001b[0m\n",
      "\u001b[0;31mNameError\u001b[0m: name 'train_data' is not defined"
     ]
    }
   ],
   "source": [
    "print('Gender数据:')\n",
    "print(train_data.groupby('Gender_Label').size())\n",
    "\n",
    "print()\n",
    "print('MaritalStatus数据:')\n",
    "print(train_data.groupby('Marital_Label').size())\n",
    "\n",
    "print()\n",
    "print('OverTime数据:')\n",
    "print(train_data.groupby('OT_Label').size())"
   ]
  },
  {
   "cell_type": "code",
   "execution_count": null,
   "metadata": {
    "collapsed": false
   },
   "outputs": [],
   "source": [
    "# 再进行One-Hot Encoding\n",
    "one_hot_enc = preprocessing.OneHotEncoder()\n",
    "train_cat_feats = one_hot_enc.fit_transform(train_data[['Gender_Label', 'Marital_Label', 'OT_Label']]).toarray()\n",
    "print(train_cat_feats[:5, :])"
   ]
  },
  {
   "cell_type": "code",
   "execution_count": null,
   "metadata": {
    "collapsed": true
   },
   "outputs": [],
   "source": [
    "# 对测试集数据进行相应的编码操作\n",
    "# 注意要使用从训练集中得出的encoder\n",
    "\n",
    "# 标签编码\n",
    "# Gender数据\n",
    "test_data['Gender_Label'] = gender_label_enc.transform(test_data['Gender'])\n",
    "\n",
    "# MaritalStatus数据\n",
    "test_data['Marital_Label'] = marital_label_enc.transform(test_data['MaritalStatus'])\n",
    "\n",
    "# OverTime数据\n",
    "test_data['OT_Label'] = ot_label_enc.transform(test_data['OverTime'])\n",
    "\n",
    "# 独热编码\n",
    "test_cat_feats = one_hot_enc.transform(test_data[['Gender_Label', 'Marital_Label', 'OT_Label']]).toarray()"
   ]
  },
  {
   "cell_type": "code",
   "execution_count": null,
   "metadata": {
    "collapsed": false
   },
   "outputs": [],
   "source": [
    "# 整合所有特征\n",
    "train_num_feats = train_data[num_cols].values\n",
    "train_ord_feats = train_data[ord_cols].values\n",
    "train_feats = np.hstack((train_num_feats, train_ord_feats, train_cat_feats))\n",
    "train_targets = train_data[target_col].values\n",
    "\n",
    "# 整合所有特征\n",
    "test_num_feats = test_data[num_cols].values\n",
    "test_ord_feats = test_data[ord_cols].values\n",
    "test_feats = np.hstack((test_num_feats, test_ord_feats, test_cat_feats))\n",
    "test_targets = test_data[target_col].values\n",
    "\n",
    "print('训练数据：', train_feats.shape)\n",
    "print('测试数据：', test_feats.shape)"
   ]
  },
  {
   "cell_type": "code",
   "execution_count": null,
   "metadata": {
    "collapsed": false
   },
   "outputs": [],
   "source": [
    "# 处理不平衡数据\n",
    "# 过采样“少”的样本\n",
    "# 安装imblearn包：conda install -c glemaitre imbalanced-learn\n",
    "# 或者：pip install -U imbalanced-learn\n",
    "from imblearn.over_sampling import SMOTE\n",
    "\n",
    "\n",
    "print('重采样前：')\n",
    "print('正样本个数：', len(train_targets[train_targets == 1]))\n",
    "print('负样本个数：', len(train_targets[train_targets == 0]))\n",
    "\n",
    "sm = SMOTE(random_state=0)\n",
    "train_resampled_feats, train_resampled_targets = sm.fit_sample(train_feats, train_targets)\n",
    "print('重采样后：')\n",
    "print('正样本个数：', len(train_resampled_targets[train_resampled_targets == 1]))\n",
    "print('负样本个数：', len(train_resampled_targets[train_resampled_targets == 0]))"
   ]
  },
  {
   "cell_type": "markdown",
   "metadata": {},
   "source": [
    "### 4.2.3 数据建模"
   ]
  },
  {
   "cell_type": "markdown",
   "metadata": {},
   "source": [
    "[随机森林](http://scikit-learn.org/stable/modules/generated/sklearn.ensemble.RandomForestClassifier.html)<br/>\n",
    "[逻辑回归](http://scikit-learn.org/stable/modules/generated/sklearn.linear_model.LogisticRegression.html)"
   ]
  },
  {
   "cell_type": "code",
   "execution_count": null,
   "metadata": {
    "collapsed": false
   },
   "outputs": [],
   "source": [
    "from sklearn.ensemble import RandomForestClassifier\n",
    "from sklearn.linear_model import LogisticRegression\n",
    "\n",
    "# # 随机森林\n",
    "# rf_clf = RandomForestClassifier(random_state=0)\n",
    "# rf_clf.fit(train_feats, train_targets)\n",
    "\n",
    "# # 逻辑回归\n",
    "# lr_clf = LogisticRegression()\n",
    "# lr_clf.fit(train_feats, train_targets)\n",
    "\n",
    "# 如果选择“重采样”请取消以下的注释 \n",
    "# 随机森林\n",
    "rf_clf = RandomForestClassifier(random_state=0)\n",
    "rf_clf.fit(train_resampled_feats, train_resampled_targets)\n",
    "\n",
    "# 逻辑回归\n",
    "lr_clf = LogisticRegression()\n",
    "lr_clf.fit(train_resampled_feats, train_resampled_targets)"
   ]
  },
  {
   "cell_type": "markdown",
   "metadata": {},
   "source": [
    "### 4.2.4 模型验证"
   ]
  },
  {
   "cell_type": "code",
   "execution_count": null,
   "metadata": {
    "collapsed": false
   },
   "outputs": [],
   "source": [
    "from sklearn import metrics\n",
    "\n",
    "print('测试集中正样本数', len(test_pos_data))\n",
    "print('测试集中负样本数', len(test_neg_data))\n",
    "\n",
    "# 随机森林\n",
    "print('随机森林：')\n",
    "test_pred = rf_clf.predict(test_feats)\n",
    "print(metrics.confusion_matrix(test_targets, test_pred, labels=[1, 0]))\n",
    "print('准确率：', metrics.accuracy_score(test_targets, test_pred))\n",
    "\n",
    "# 逻辑回归\n",
    "print('逻辑回归：')\n",
    "test_pred = lr_clf.predict(test_feats)\n",
    "print(metrics.confusion_matrix(test_targets, test_pred, labels=[1, 0]))\n",
    "print('准确率：', metrics.accuracy_score(test_targets, test_pred))"
   ]
  },
  {
   "cell_type": "markdown",
   "metadata": {},
   "source": [
    "## 5. 项目总结\n",
    "* 该项目通过案例分析实践了Python数据分析的常用步骤及技巧，包括:\n",
    "    * csv数据操作\n",
    "    * NumPy的简单使用\n",
    "    * Pandas的简单使用\n",
    "    * sklearn的简单使用\n",
    "    * 非平衡数据的处理\n",
    "* 课后学员可模仿该项目的流程与操作，使用更多的特征，观察对预测结果的影响"
   ]
  },
  {
   "cell_type": "code",
   "execution_count": null,
   "metadata": {
    "collapsed": true
   },
   "outputs": [],
   "source": []
  }
 ],
 "metadata": {
  "kernelspec": {
   "display_name": "Python 2",
   "language": "python",
   "name": "python2"
  },
  "language_info": {
   "codemirror_mode": {
    "name": "ipython",
    "version": 2
   },
   "file_extension": ".py",
   "mimetype": "text/x-python",
   "name": "python",
   "nbconvert_exporter": "python",
   "pygments_lexer": "ipython2",
   "version": "2.7.13"
  }
 },
 "nbformat": 4,
 "nbformat_minor": 2
}
