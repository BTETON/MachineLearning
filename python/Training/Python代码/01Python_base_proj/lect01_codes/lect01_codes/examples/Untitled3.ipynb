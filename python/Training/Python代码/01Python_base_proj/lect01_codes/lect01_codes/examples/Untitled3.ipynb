{
 "cells": [
  {
   "cell_type": "code",
   "execution_count": 11,
   "metadata": {
    "collapsed": false
   },
   "outputs": [
    {
     "name": "stdout",
     "output_type": "stream",
     "text": [
      "('\\xe5\\xbd\\x93\\xe5\\x89\\x8d\\xe6\\x97\\xb6\\xe9\\x97\\xb4\\xef\\xbc\\x9a', 1508297559.523)\n",
      "2017-10-18 11:32:39.524000\n",
      "2017年10月18日\n",
      "('\\xe4\\xbb\\x8a\\xe5\\xa4\\xa9\\xe7\\x9a\\x84\\xe5\\x89\\x8d100\\xe5\\xa4\\xa9\\xef\\xbc\\x9a', datetime.date(2017, 7, 10))\n",
      "True\n"
     ]
    }
   ],
   "source": [
    "# -*- coding: utf-8 -*-  \n",
    "import datetime as dt\n",
    "import time as tm\n",
    "\n",
    "#  从1970年1月1日算起\n",
    "print('当前时间：', tm.time())\n",
    "\n",
    "dt_now = dt.datetime.fromtimestamp(tm.time())\n",
    "print(dt_now)\n",
    "print('{}年{}月{}日'.format(dt_now.year, dt_now.month, dt_now.day))\n",
    "\n",
    "# 日期计算\n",
    "delta = dt.timedelta(days=100)\n",
    "print('今天的前100天：', dt.date.today() - delta)\n",
    "print(dt.date.today() > dt.date.today() - delta)"
   ]
  },
  {
   "cell_type": "code",
   "execution_count": null,
   "metadata": {
    "collapsed": true
   },
   "outputs": [],
   "source": []
  },
  {
   "cell_type": "code",
   "execution_count": null,
   "metadata": {
    "collapsed": true
   },
   "outputs": [],
   "source": []
  }
 ],
 "metadata": {
  "kernelspec": {
   "display_name": "Python 2",
   "language": "python",
   "name": "python2"
  },
  "language_info": {
   "codemirror_mode": {
    "name": "ipython",
    "version": 2
   },
   "file_extension": ".py",
   "mimetype": "text/x-python",
   "name": "python",
   "nbconvert_exporter": "python",
   "pygments_lexer": "ipython2",
   "version": "2.7.13"
  }
 },
 "nbformat": 4,
 "nbformat_minor": 2
}
