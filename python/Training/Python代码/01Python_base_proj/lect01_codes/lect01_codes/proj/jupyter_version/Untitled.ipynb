{
 "cells": [
  {
   "cell_type": "code",
   "execution_count": 1,
   "metadata": {
    "collapsed": true
   },
   "outputs": [],
   "source": [
    "import csv\n",
    "import os\n",
    "import numpy as np\n",
    "import pandas as pd\n"
   ]
  },
  {
   "cell_type": "code",
   "execution_count": 2,
   "metadata": {
    "collapsed": true
   },
   "outputs": [],
   "source": [
    "dataset_path = '../data'\n",
    "report_2015_datafile = os.path.join(dataset_path, '2015.csv')\n",
    "report_2016_datafile = os.path.join(dataset_path, '2016.csv')"
   ]
  },
  {
   "cell_type": "code",
   "execution_count": 3,
   "metadata": {
    "collapsed": true
   },
   "outputs": [],
   "source": [
    "# 读入数据\n",
    "def load_data(data_file):\n",
    "    \"\"\"\n",
    "        读取数据文件，加载数据。\n",
    "        返回列表，其中列表中的每个元素为一个元组，包括Country, Region, Happiness Rank和Happiness Score\n",
    "    \"\"\"\n",
    "    data = []\n",
    "    with open(data_file, 'r') as csvfile:\n",
    "        data_reader = csv.DictReader(csvfile)\n",
    "        for row in data_reader:\n",
    "            # 取出每行数据的Country, Region, Happiness Rank和Hapiness Score，组合为一个元组放入数据列表中\n",
    "            # 注意csv模块读入的数据全部为字符串类型\n",
    "            data.append((row['Country'], row['Region'], \n",
    "                         row['Happiness Rank'], row['Happiness Score']))\n",
    "    return data\n",
    "\n",
    "\n",
    "report_2015_data = load_data(report_2015_datafile)\n",
    "report_2016_data = load_data(report_2016_datafile)"
   ]
  },
  {
   "cell_type": "code",
   "execution_count": 4,
   "metadata": {},
   "outputs": [
    {
     "name": "stdout",
     "output_type": "stream",
     "text": [
      "2015年报告，前10条记录预览：\n",
      "[('Switzerland', 'Western Europe', '1', '7.587'), ('Iceland', 'Western Europe', '2', '7.561'), ('Denmark', 'Western Europe', '3', '7.527'), ('Norway', 'Western Europe', '4', '7.522'), ('Canada', 'North America', '5', '7.427'), ('Finland', 'Western Europe', '6', '7.406'), ('Netherlands', 'Western Europe', '7', '7.378'), ('Sweden', 'Western Europe', '8', '7.364'), ('New Zealand', 'Australia and New Zealand', '9', '7.286'), ('Australia', 'Australia and New Zealand', '10', '7.284')]\n",
      "2016年报告，前10条记录预览：\n",
      "[('Denmark', 'Western Europe', '1', '7.526'), ('Switzerland', 'Western Europe', '2', '7.509'), ('Iceland', 'Western Europe', '3', '7.501'), ('Norway', 'Western Europe', '4', '7.498'), ('Finland', 'Western Europe', '5', '7.413'), ('Canada', 'North America', '6', '7.404'), ('Netherlands', 'Western Europe', '7', '7.339'), ('New Zealand', 'Australia and New Zealand', '8', '7.334'), ('Australia', 'Australia and New Zealand', '9', '7.313'), ('Sweden', 'Western Europe', '10', '7.291')]\n"
     ]
    }
   ],
   "source": [
    "print('2015年报告，前10条记录预览：')\n",
    "print(report_2015_data[:10])\n",
    "\n",
    "print('2016年报告，前10条记录预览：')\n",
    "print(report_2016_data[:10])"
   ]
  },
  {
   "cell_type": "code",
   "execution_count": 9,
   "metadata": {},
   "outputs": [
    {
     "name": "stdout",
     "output_type": "stream",
     "text": [
      "('2015\\xe5\\xb9\\xb4\\xe6\\x8a\\xa5\\xe5\\x91\\x8a\\xef\\xbc\\x8c\\xe5\\x89\\x8d10\\xe6\\x9d\\xa1\\xe8\\xae\\xb0\\xe5\\xbd\\x95\\xe5\\xb9\\xb8\\xe7\\xa6\\x8f\\xe6\\x8c\\x87\\xe6\\x95\\xb0\\xef\\xbc\\x9a', [7.587, 7.561, 7.527, 7.522, 7.427, 7.406, 7.378, 7.364, 7.286, 7.284])\n",
      "('2016\\xe5\\xb9\\xb4\\xe6\\x8a\\xa5\\xe5\\x91\\x8a\\xef\\xbc\\x8c\\xe5\\x89\\x8d10\\xe6\\x9d\\xa1\\xe8\\xae\\xb0\\xe5\\xbd\\x95\\xe5\\xb9\\xb8\\xe7\\xa6\\x8f\\xe6\\x8c\\x87\\xe6\\x95\\xb0\\xef\\xbc\\x9a', [7.526, 7.509, 7.501, 7.498, 7.413, 7.404, 7.339, 7.334, 7.313, 7.291])\n"
     ]
    }
   ],
   "source": [
    "# 注意列表推导式的使用\n",
    "happiness_2015_scores = [float(item[3]) for item in report_2015_data]\n",
    "happiness_2016_scores = [float(item[3]) for item in report_2016_data]\n",
    "\n",
    "# 查看数据\n",
    "print('2015年报告，前10条记录幸福指数：', happiness_2015_scores[:10])\n",
    "print('2016年报告，前10条记录幸福指数：', happiness_2016_scores[:10])"
   ]
  },
  {
   "cell_type": "code",
   "execution_count": 11,
   "metadata": {},
   "outputs": [
    {
     "name": "stdout",
     "output_type": "stream",
     "text": [
      "2015年报告，幸福指数直方图分布：[ 3 10 13 25 28 12 26 14 12 15]；直方图边界：[ 2.839   3.3138  3.7886  4.2634  4.7382  5.213   5.6878  6.1626  6.6374\n",
      "  7.1122  7.587 ]。\n",
      "2016年报告，幸福指数直方图分布：[ 4 10 20 15 25 19 21 17 12 14]；直方图边界：[ 2.905   3.3671  3.8292  4.2913  4.7534  5.2155  5.6776  6.1397  6.6018\n",
      "  7.0639  7.526 ]。\n"
     ]
    }
   ],
   "source": [
    "hist_2015, hist_edge_2015 = np.histogram(happiness_2015_scores)\n",
    "hist_2016, hist_edge_2016 = np.histogram(happiness_2016_scores)\n",
    "\n",
    "print('2015年报告，幸福指数直方图分布：{}；直方图边界：{}。'.format(hist_2015, hist_edge_2015))\n",
    "print('2016年报告，幸福指数直方图分布：{}；直方图边界：{}。'.format(hist_2016, hist_edge_2016))"
   ]
  },
  {
   "cell_type": "code",
   "execution_count": 14,
   "metadata": {},
   "outputs": [
    {
     "name": "stdout",
     "output_type": "stream",
     "text": [
      "2015报告：\n",
      "Eastern Asia：最大值5.987，最小值4.874，平均值5.4918，中间值5.474\n",
      "Latin America and Caribbean：最大值7.187，最小值4.518，平均值6.09319047619，中间值6.13\n",
      "Central and Eastern Europe：最大值6.003，最小值4.218，平均值5.29107142857，中间值5.249\n",
      "North America：最大值7.119，最小值7.119，平均值7.119，中间值7.119\n",
      "Middle East and Northern Africa：最大值6.901，最小值3.006，平均值5.30842105263，中间值5.192\n",
      "Sub-Saharan Africa：最大值5.268，最小值2.839，平均值4.17012820513，中间值4.252\n",
      "Southeastern Asia：最大值6.455，最小值3.819，平均值5.132375，中间值5.2165\n",
      "Western Europe：最大值7.561，最小值4.857，平均值6.64475，中间值6.902\n",
      "Southern Asia：最大值5.194，最小值3.575，平均值4.46883333333，中间值4.5395\n",
      "Australia and New Zealand：最大值7.284，最小值7.284，平均值7.284，中间值7.284\n"
     ]
    }
   ],
   "source": [
    "def get_region_happiness_scores(report_data):\n",
    "    \"\"\"\n",
    "        获取区域包含国家的幸福指数\n",
    "    \"\"\"\n",
    "    region_score_dict = {}\n",
    "    for item in report_data:\n",
    "        region = item[1]\n",
    "        score = float(item[3])\n",
    "        if region in region_score_dict:\n",
    "            # 如果region_score_dict已经记录了该区域，则添加该区域的幸福指数到列表中\n",
    "            region_score_dict[region].append(score)\n",
    "        else:\n",
    "            # 如果region_score_dict未记录该区域，则为该区域初始化一个空列表\n",
    "            region_score_dict[region] = []\n",
    "    return region_score_dict\n",
    "     \n",
    "\n",
    "region_2015_score_dict = get_region_happiness_scores(report_2015_data)\n",
    "region_2016_score_dict = get_region_happiness_scores(report_2015_data)\n",
    "# print(region_2015_score_dict)\n",
    "# 遍历数据字典，以2015年为例\n",
    "print('2015报告：')\n",
    "for region, scores in region_2015_score_dict.items():\n",
    "    print('{}：最大值{}，最小值{}，平均值{}，中间值{}'.format(region,\n",
    "        np.max(scores), np.min(scores), np.mean(scores), np.median(scores)))"
   ]
  },
  {
   "cell_type": "code",
   "execution_count": 15,
   "metadata": {},
   "outputs": [
    {
     "name": "stdout",
     "output_type": "stream",
     "text": [
      "{'Canada': 5, 'Turkmenistan': 70, 'Lithuania': 56, 'Cambodia': 145, 'Ethiopia': 122, 'Sri Lanka': 132, 'Swaziland': 101, 'Argentina': 30, 'Bolivia': 51, 'Cameroon': 133, 'Burkina Faso': 152, 'Bahrain': 49, 'Saudi Arabia': 35, 'Slovenia': 55, 'Guatemala': 43, 'Zimbabwe': 115, 'Bosnia and Herzegovina': 96, 'Guinea': 150, 'Germany': 26, 'Spain': 36, 'Liberia': 116, 'Netherlands': 7, 'Jamaica': 65, 'Oman': 22, 'Tanzania': 146, 'Ivory Coast': 151, 'Gabon': 143, 'New Zealand': 9, 'Yemen': 136, 'Pakistan': 81, 'Albania': 95, 'United Arab Emirates': 20, 'Uruguay': 32, 'India': 117, 'Azerbaijan': 80, 'Madagascar': 147, 'Lesotho': 97, 'Congo (Brazzaville)': 139, 'Kenya': 125, 'South Korea': 47, 'Tajikistan': 106, 'Turkey': 76, 'Afghanistan': 153, 'Czech Republic': 31, 'Mongolia': 100, 'France': 29, 'Rwanda': 154, 'Slovakia': 45, 'Peru': 58, 'Laos': 99, 'Norway': 4, 'Malawi': 131, 'Benin': 155, 'Singapore': 24, 'Montenegro': 82, 'Togo': 158, 'China': 84, 'Armenia': 127, 'Dominican Republic': 98, 'Ukraine': 111, 'Ghana': 114, 'Finland': 6, 'Libya': 63, 'Indonesia': 74, 'Central African Republic': 148, 'Mauritius': 71, 'Sweden': 8, 'Belarus': 59, 'Mali': 138, 'Russia': 64, 'Bulgaria': 134, 'United States': 15, 'Romania': 86, 'Angola': 137, 'Portugal': 88, 'South Africa': 113, 'Nicaragua': 57, 'Malaysia': 61, 'Austria': 13, 'Vietnam': 75, 'Mozambique': 94, 'Uganda': 141, 'Japan': 46, 'Niger': 144, 'Brazil': 16, 'Kuwait': 39, 'Panama': 25, 'Costa Rica': 12, 'Luxembourg': 17, 'Ireland': 18, 'Nigeria': 78, 'Ecuador': 48, 'Bangladesh': 109, 'Australia': 10, 'Iran': 110, 'Algeria': 68, 'El Salvador': 42, 'Chile': 27, 'Belgium': 19, 'Thailand': 34, 'Haiti': 119, 'Iraq': 112, 'Hong Kong': 72, 'Sierra Leone': 123, 'Georgia': 130, 'Denmark': 3, 'Poland': 60, 'Moldova': 52, 'Morocco': 92, 'Croatia': 62, 'Switzerland': 1, 'Chad': 149, 'Estonia': 73, 'Kosovo': 69, 'Lebanon': 103, 'Uzbekistan': 44, 'Egypt': 135, 'Djibouti': 126, 'Colombia': 33, 'Burundi': 157, 'North Cyprus': 66, 'Taiwan': 38, 'Cyprus': 67, 'Qatar': 28, 'Italy': 50, 'Bhutan': 79, 'Sudan': 118, 'Palestinian Territories': 108, 'Nepal': 121, 'Malta': 37, 'Congo (Kinshasa)': 120, 'Suriname': 40, 'Venezuela': 23, 'Israel': 11, 'Iceland': 2, 'Zambia': 85, 'Senegal': 142, 'Somaliland region': 91, 'Jordan': 82, 'Kazakhstan': 54, 'Philippines': 90, 'Mauritania': 124, 'Kyrgyzstan': 77, 'Macedonia': 93, 'Trinidad and Tobago': 41, 'Latvia': 89, 'Hungary': 104, 'Syria': 156, 'Honduras': 105, 'Myanmar': 129, 'Mexico': 14, 'Tunisia': 107, 'Serbia': 87, 'Comoros': 140, 'United Kingdom': 21, 'Greece': 102, 'Paraguay': 53, 'Botswana': 128}\n"
     ]
    }
   ],
   "source": [
    "# 将数据构建成字典，key是国家，value是其排名\n",
    "# 扩展：字典推导式\n",
    "country_2015_score_dict = {item[0] : int(item[2]) for item in report_2015_data}\n",
    "country_2016_score_dict = {item[0] : int(item[2]) for item in report_2016_data}\n",
    "\n",
    "# 2015年数据预览\n",
    "print(country_2015_score_dict)"
   ]
  },
  {
   "cell_type": "code",
   "execution_count": 16,
   "metadata": {},
   "outputs": [
    {
     "name": "stdout",
     "output_type": "stream",
     "text": [
      "2015年，数据预览：\n",
      "Afghanistan    153\n",
      "Albania         95\n",
      "Algeria         68\n",
      "Angola         137\n",
      "Argentina       30\n",
      "dtype: int64\n",
      "2016年，数据预览：\n",
      "Afghanistan    154\n",
      "Albania        109\n",
      "Algeria         38\n",
      "Angola         141\n",
      "Argentina       26\n",
      "dtype: int64\n"
     ]
    }
   ],
   "source": [
    "# 将数据转换为Series\n",
    "ser_2015 = pd.Series(country_2015_score_dict)\n",
    "ser_2016 = pd.Series(country_2016_score_dict)\n",
    "\n",
    "print('2015年，数据预览：')\n",
    "print(ser_2015.head())\n",
    "\n",
    "print('2016年，数据预览：')\n",
    "print(ser_2016.head())"
   ]
  },
  {
   "cell_type": "code",
   "execution_count": 17,
   "metadata": {},
   "outputs": [
    {
     "name": "stdout",
     "output_type": "stream",
     "text": [
      "2015-2016排名变化：\n",
      "Afghanistan                  1.0\n",
      "Albania                     14.0\n",
      "Algeria                    -30.0\n",
      "Angola                       4.0\n",
      "Argentina                   -4.0\n",
      "Armenia                     -6.0\n",
      "Australia                   -1.0\n",
      "Austria                     -1.0\n",
      "Azerbaijan                   1.0\n",
      "Bahrain                     -7.0\n",
      "Bangladesh                   1.0\n",
      "Belarus                      2.0\n",
      "Belgium                     -1.0\n",
      "Belize                       NaN\n",
      "Benin                       -2.0\n",
      "Bhutan                       5.0\n",
      "Bolivia                      8.0\n",
      "Bosnia and Herzegovina      -9.0\n",
      "Botswana                     9.0\n",
      "Brazil                       1.0\n",
      "Bulgaria                    -5.0\n",
      "Burkina Faso                -7.0\n",
      "Burundi                      0.0\n",
      "Cambodia                    -5.0\n",
      "Cameroon                   -19.0\n",
      "Canada                       1.0\n",
      "Central African Republic     NaN\n",
      "Chad                        -5.0\n",
      "Chile                       -3.0\n",
      "China                       -1.0\n",
      "                            ... \n",
      "South Sudan                  NaN\n",
      "Spain                        1.0\n",
      "Sri Lanka                  -15.0\n",
      "Sudan                       15.0\n",
      "Suriname                     0.0\n",
      "Swaziland                    NaN\n",
      "Sweden                       2.0\n",
      "Switzerland                  1.0\n",
      "Syria                        0.0\n",
      "Taiwan                      -4.0\n",
      "Tajikistan                  -6.0\n",
      "Tanzania                     3.0\n",
      "Thailand                    -1.0\n",
      "Togo                        -3.0\n",
      "Trinidad and Tobago          2.0\n",
      "Tunisia                     -9.0\n",
      "Turkey                       2.0\n",
      "Turkmenistan                -5.0\n",
      "Uganda                       4.0\n",
      "Ukraine                     12.0\n",
      "United Arab Emirates         8.0\n",
      "United Kingdom               2.0\n",
      "United States               -2.0\n",
      "Uruguay                     -3.0\n",
      "Uzbekistan                   5.0\n",
      "Venezuela                   21.0\n",
      "Vietnam                     21.0\n",
      "Yemen                       11.0\n",
      "Zambia                      21.0\n",
      "Zimbabwe                    16.0\n",
      "dtype: float64\n"
     ]
    }
   ],
   "source": [
    "ser_change = ser_2016 - ser_2015\n",
    "print('2015-2016排名变化：')\n",
    "print(ser_change)"
   ]
  },
  {
   "cell_type": "code",
   "execution_count": 19,
   "metadata": {},
   "outputs": [
    {
     "name": "stdout",
     "output_type": "stream",
     "text": [
      "Liberia\n",
      "Algeria\n"
     ]
    }
   ],
   "source": [
    "# 查看上升最快的国家\n",
    "print('2015-2016幸福指数上升最快的国家', ser_change.argmax())\n",
    "# 查看下降最快的国家\n",
    "print('2015-2016幸福指数下降最快的国家', ser_change.argmin())"
   ]
  },
  {
   "cell_type": "code",
   "execution_count": null,
   "metadata": {
    "collapsed": true
   },
   "outputs": [],
   "source": []
  }
 ],
 "metadata": {
  "kernelspec": {
   "display_name": "Python 3",
   "language": "python",
   "name": "python3"
  },
  "language_info": {
   "codemirror_mode": {
    "name": "ipython",
    "version": 3
   },
   "file_extension": ".py",
   "mimetype": "text/x-python",
   "name": "python",
   "nbconvert_exporter": "python",
   "pygments_lexer": "ipython3",
   "version": "3.6.2"
  }
 },
 "nbformat": 4,
 "nbformat_minor": 2
}
