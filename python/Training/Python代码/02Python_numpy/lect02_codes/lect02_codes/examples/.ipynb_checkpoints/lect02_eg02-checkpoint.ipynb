{
 "cells": [
  {
   "cell_type": "markdown",
   "metadata": {},
   "source": [
    "# 数据合并及分组"
   ]
  },
  {
   "cell_type": "markdown",
   "metadata": {},
   "source": [
    "## 1. 数据合并"
   ]
  },
  {
   "cell_type": "code",
   "execution_count": null,
   "metadata": {
    "collapsed": false
   },
   "outputs": [],
   "source": [
    "import pandas as pd\n",
    "\n",
    "staff_df = pd.DataFrame([{'姓名': '张三', '部门': '研发部'},\n",
    "                        {'姓名': '李四', '部门': '财务部'},\n",
    "                        {'姓名': '赵六', '部门': '市场部'}])\n",
    "\n",
    "\n",
    "student_df = pd.DataFrame([{'姓名': '张三', '专业': '计算机'},\n",
    "                        {'姓名': '李四', '专业': '会计'},\n",
    "                        {'姓名': '王五', '专业': '市场营销'}])\n",
    "\n",
    "print(staff_df)\n",
    "print()\n",
    "print(student_df)"
   ]
  },
  {
   "cell_type": "code",
   "execution_count": null,
   "metadata": {
    "collapsed": false
   },
   "outputs": [],
   "source": [
    "pd.merge(staff_df, student_df, how='outer', on='姓名')\n",
    "# 或者\n",
    "# staff_df.merge(student_df, how='outer', on='姓名')"
   ]
  },
  {
   "cell_type": "code",
   "execution_count": null,
   "metadata": {
    "collapsed": false
   },
   "outputs": [],
   "source": [
    "pd.merge(staff_df, student_df, how='inner', on='姓名')\n",
    "# 或者\n",
    "# staff_df.merge(student_df, how='inner', on='姓名')"
   ]
  },
  {
   "cell_type": "code",
   "execution_count": null,
   "metadata": {
    "collapsed": false
   },
   "outputs": [],
   "source": [
    "pd.merge(staff_df, student_df, how='left', on='姓名')\n",
    "# 或者\n",
    "# staff_df.merge(student_df, how='left', on='姓名')"
   ]
  },
  {
   "cell_type": "code",
   "execution_count": null,
   "metadata": {
    "collapsed": false
   },
   "outputs": [],
   "source": [
    "pd.merge(staff_df, student_df, how='right', on='姓名')\n",
    "# 或者\n",
    "# staff_df.merge(student_df, how='right', on='姓名')"
   ]
  },
  {
   "cell_type": "code",
   "execution_count": null,
   "metadata": {
    "collapsed": false
   },
   "outputs": [],
   "source": [
    "# 也可以按索引进行合并\n",
    "staff_df.set_index('姓名', inplace=True)\n",
    "student_df.set_index('姓名', inplace=True)\n",
    "print(staff_df)\n",
    "print(student_df)"
   ]
  },
  {
   "cell_type": "code",
   "execution_count": null,
   "metadata": {
    "collapsed": false
   },
   "outputs": [],
   "source": [
    "pd.merge(staff_df, student_df, how='left', left_index=True, right_index=True)\n",
    "# 或者\n",
    "# staff_df.merge(student_df, how='left', left_index=True, right_index=True)"
   ]
  },
  {
   "cell_type": "code",
   "execution_count": null,
   "metadata": {
    "collapsed": false
   },
   "outputs": [],
   "source": [
    "# 当数据中的列名不同时，使用left_on，right_on\n",
    "staff_df.reset_index(inplace=True)\n",
    "student_df.reset_index(inplace=True)\n",
    "print(staff_df)\n",
    "print(student_df)"
   ]
  },
  {
   "cell_type": "code",
   "execution_count": null,
   "metadata": {
    "collapsed": false
   },
   "outputs": [],
   "source": [
    "staff_df.rename(columns={'姓名': '员工姓名'}, inplace=True)\n",
    "student_df.rename(columns={'姓名': '学生姓名'}, inplace=True)\n",
    "print(staff_df)\n",
    "print(student_df)"
   ]
  },
  {
   "cell_type": "code",
   "execution_count": null,
   "metadata": {
    "collapsed": false
   },
   "outputs": [],
   "source": [
    "pd.merge(staff_df, student_df, how='left', left_on='员工姓名', right_on='学生姓名')"
   ]
  },
  {
   "cell_type": "code",
   "execution_count": null,
   "metadata": {
    "collapsed": false
   },
   "outputs": [],
   "source": [
    "# 如果两个数据中包含有相同的列名（不是要合并的列）时，merge会自动加后缀作为区别\n",
    "staff_df['地址'] = ['天津', '北京', '上海']\n",
    "student_df['地址'] = ['天津', '上海', '广州']\n",
    "print(staff_df)\n",
    "print(student_df)"
   ]
  },
  {
   "cell_type": "code",
   "execution_count": null,
   "metadata": {
    "collapsed": false
   },
   "outputs": [],
   "source": [
    "pd.merge(staff_df, student_df, how='left', left_on='员工姓名', right_on='学生姓名')"
   ]
  },
  {
   "cell_type": "code",
   "execution_count": null,
   "metadata": {
    "collapsed": false
   },
   "outputs": [],
   "source": [
    "# 也可指定后缀名称\n",
    "pd.merge(staff_df, student_df, how='left', left_on='员工姓名', right_on='学生姓名', suffixes=('(公司)', '(家乡)'))"
   ]
  },
  {
   "cell_type": "code",
   "execution_count": null,
   "metadata": {
    "collapsed": false
   },
   "outputs": [],
   "source": [
    "# 也可以指定多列进行合并，找出同一个人的工作地址和家乡地址相同的记录\n",
    "pd.merge(staff_df, student_df, how='inner', left_on=['员工姓名', '地址'], right_on=['学生姓名', '地址'])"
   ]
  },
  {
   "cell_type": "code",
   "execution_count": null,
   "metadata": {
    "collapsed": false
   },
   "outputs": [],
   "source": [
    "# apply使用\n",
    "# 获取姓\n",
    "staff_df['员工姓名'].apply(lambda x: x[0])"
   ]
  },
  {
   "cell_type": "code",
   "execution_count": null,
   "metadata": {
    "collapsed": false
   },
   "outputs": [],
   "source": [
    "# 获取名\n",
    "staff_df['员工姓名'].apply(lambda x: x[1:])"
   ]
  },
  {
   "cell_type": "code",
   "execution_count": null,
   "metadata": {
    "collapsed": false
   },
   "outputs": [],
   "source": [
    "# 结果合并\n",
    "staff_df.loc[:, '姓'] = staff_df['员工姓名'].apply(lambda x: x[0])\n",
    "staff_df.loc[:, '名'] = staff_df['员工姓名'].apply(lambda x: x[1:])\n",
    "print(staff_df)"
   ]
  },
  {
   "cell_type": "markdown",
   "metadata": {
    "collapsed": true
   },
   "source": [
    "## 2. 数据分组"
   ]
  },
  {
   "cell_type": "code",
   "execution_count": null,
   "metadata": {
    "collapsed": false
   },
   "outputs": [],
   "source": [
    "report_data = pd.read_csv('./2015.csv')\n",
    "report_data.head()"
   ]
  },
  {
   "cell_type": "code",
   "execution_count": null,
   "metadata": {
    "collapsed": false
   },
   "outputs": [],
   "source": [
    "#groupby()\n",
    "grouped = report_data.groupby('Region')\n",
    "print(type(grouped))"
   ]
  },
  {
   "cell_type": "code",
   "execution_count": null,
   "metadata": {
    "collapsed": false
   },
   "outputs": [],
   "source": [
    "grouped['Happiness Score'].mean()"
   ]
  },
  {
   "cell_type": "code",
   "execution_count": null,
   "metadata": {
    "collapsed": false
   },
   "outputs": [],
   "source": [
    "grouped.size()"
   ]
  },
  {
   "cell_type": "code",
   "execution_count": null,
   "metadata": {
    "collapsed": false
   },
   "outputs": [],
   "source": [
    "# 迭代groupby对象\n",
    "for group, frame in grouped:\n",
    "    mean_score = frame['Happiness Score'].mean()\n",
    "    max_score = frame['Happiness Score'].max()\n",
    "    min_score = frame['Happiness Score'].min()\n",
    "    print('{}地区的平均幸福指数：{}，最高幸福指数：{}，最低幸福指数{}'.format(group, mean_score, max_score, min_score))"
   ]
  },
  {
   "cell_type": "code",
   "execution_count": null,
   "metadata": {
    "collapsed": false
   },
   "outputs": [],
   "source": [
    "# 自定义函数进行分组\n",
    "# 按照幸福指数排名进行划分，1-10, 10-20, >20\n",
    "# 如果自定义函数，操作针对的是index\n",
    "report_data2 = report_data.set_index('Happiness Rank')\n",
    "\n",
    "def get_rank_group(rank):\n",
    "    rank_group = ''\n",
    "    if rank <= 10:\n",
    "        rank_group = '0 -- 10'\n",
    "    elif rank <= 20:\n",
    "        rank_group = '10 -- 20'\n",
    "    else:\n",
    "        rank_group = '> 20'\n",
    "    return rank_group\n",
    "\n",
    "grouped = report_data2.groupby(get_rank_group)\n",
    "for group, frame in grouped:\n",
    "    print('{}分组的数据个数：{}'.format(group, len(frame)))"
   ]
  },
  {
   "cell_type": "code",
   "execution_count": null,
   "metadata": {
    "collapsed": false
   },
   "outputs": [],
   "source": [
    "# 实际项目中，通常可以先人为构造出一个分组列，然后再进行groupby\n",
    "\n",
    "# 按照score的整数部分进行分组\n",
    "# 按照幸福指数排名进行划分，1-10, 10-20, >20\n",
    "# 如果自定义函数，操作针对的是index\n",
    "report_data['score group'] = report_data['Happiness Score'].apply(lambda score: int(score))\n",
    "\n",
    "grouped = report_data.groupby('score group')\n",
    "for group, frame in grouped:\n",
    "    print('幸福指数整数部分为{}的分组数据个数：{}'.format(group, len(frame)))"
   ]
  },
  {
   "cell_type": "code",
   "execution_count": null,
   "metadata": {
    "collapsed": false,
    "scrolled": true
   },
   "outputs": [],
   "source": [
    "import numpy as np\n",
    "\n",
    "grouped.agg({'Happiness Score': np.mean, 'Happiness Rank': np.max})"
   ]
  },
  {
   "cell_type": "code",
   "execution_count": null,
   "metadata": {
    "collapsed": false
   },
   "outputs": [],
   "source": [
    "grouped['Happiness Score'].agg([np.mean, np.max, np.min, np.std])"
   ]
  },
  {
   "cell_type": "code",
   "execution_count": null,
   "metadata": {
    "collapsed": true
   },
   "outputs": [],
   "source": []
  }
 ],
 "metadata": {
  "kernelspec": {
   "display_name": "Python 2",
   "language": "python",
   "name": "python2"
  },
  "language_info": {
   "codemirror_mode": {
    "name": "ipython",
    "version": 2
   },
   "file_extension": ".py",
   "mimetype": "text/x-python",
   "name": "python",
   "nbconvert_exporter": "python",
   "pygments_lexer": "ipython2",
   "version": "2.7.13"
  }
 },
 "nbformat": 4,
 "nbformat_minor": 2
}
