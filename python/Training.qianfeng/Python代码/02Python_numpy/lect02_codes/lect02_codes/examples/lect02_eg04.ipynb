{
 "cells": [
  {
   "cell_type": "markdown",
   "metadata": {},
   "source": [
    "# 常用的统计分布"
   ]
  },
  {
   "cell_type": "code",
   "execution_count": 2,
   "metadata": {
    "collapsed": true
   },
   "outputs": [],
   "source": [
    "import pandas as pd\n",
    "import numpy as np"
   ]
  },
  {
   "cell_type": "markdown",
   "metadata": {},
   "source": [
    "## 1. 二项分布\n",
    "[numpy.random.binomial](https://docs.scipy.org/doc/numpy-1.13.0/reference/generated/numpy.random.binomial.html)<br/|>\n",
    "从二项分布中采样"
   ]
  },
  {
   "cell_type": "code",
   "execution_count": 3,
   "metadata": {
    "collapsed": false
   },
   "outputs": [
    {
     "data": {
      "text/plain": [
       "1"
      ]
     },
     "execution_count": 3,
     "metadata": {},
     "output_type": "execute_result"
    }
   ],
   "source": [
    "# 1次试验中，成功的次数\n",
    "np.random.binomial(1, 0.5)"
   ]
  },
  {
   "cell_type": "code",
   "execution_count": 4,
   "metadata": {
    "collapsed": false
   },
   "outputs": [
    {
     "name": "stdout",
     "output_type": "stream",
     "text": [
      "('1000\\xe6\\xac\\xa1\\xe8\\xaf\\x95\\xe9\\xaa\\x8c\\xe4\\xb8\\xad\\xef\\xbc\\x8c\\xe6\\x88\\x90\\xe5\\x8a\\x9f\\xe7\\x9a\\x84\\xe6\\xac\\xa1\\xe6\\x95\\xb0: ', 480)\n",
      "('1000\\xe6\\xac\\xa1\\xe8\\xaf\\x95\\xe9\\xaa\\x8c\\xe4\\xb8\\xad\\xef\\xbc\\x8c\\xe6\\x88\\x90\\xe5\\x8a\\x9f\\xe7\\x9a\\x84\\xe6\\xac\\xa1\\xe6\\x95\\xb0: ', 0)\n"
     ]
    }
   ],
   "source": [
    "# 1000次试验中，成功的次数\n",
    "print('1000次试验中，成功的次数: ', np.random.binomial(1000, 0.5))\n",
    "\n",
    "# 1000次试验中，成功的概率\n",
    "print('1000次试验中，成功的次数: ', np.random.binomial(1000, 0.5) / 1000)"
   ]
  },
  {
   "cell_type": "code",
   "execution_count": 5,
   "metadata": {
    "collapsed": false
   },
   "outputs": [
    {
     "name": "stdout",
     "output_type": "stream",
     "text": [
      "('10000\\xe6\\xac\\xa1\\xe8\\xaf\\x95\\xe9\\xaa\\x8c\\xe4\\xb8\\xad\\xef\\xbc\\x8c\\xe6\\x88\\x90\\xe5\\x8a\\x9f\\xe7\\x9a\\x84\\xe6\\xac\\xa1\\xe6\\x95\\xb0: ', 5037)\n",
      "('10000\\xe6\\xac\\xa1\\xe8\\xaf\\x95\\xe9\\xaa\\x8c\\xe4\\xb8\\xad\\xef\\xbc\\x8c\\xe6\\x88\\x90\\xe5\\x8a\\x9f\\xe7\\x9a\\x84\\xe6\\xac\\xa1\\xe6\\x95\\xb0: ', 0)\n"
     ]
    }
   ],
   "source": [
    "# 10000次试验中，成功的次数\n",
    "print('10000次试验中，成功的次数: ', np.random.binomial(10000, 0.5))\n",
    "\n",
    "# 10000次试验中，成功的概率\n",
    "print('10000次试验中，成功的次数: ', np.random.binomial(10000, 0.5) / 10000)"
   ]
  },
  {
   "cell_type": "code",
   "execution_count": 5,
   "metadata": {
    "collapsed": false
   },
   "outputs": [
    {
     "name": "stdout",
     "output_type": "stream",
     "text": [
      "100000次投掷硬币，连续两次都是正面的次数25392\n"
     ]
    }
   ],
   "source": [
    "# 模拟100000次试验中，连续两次都是1的次数\n",
    "n_events = 100000\n",
    "events = np.random.binomial(1, 0.5, n_events)\n",
    "\n",
    "two_in_a_row = 0\n",
    "for i in range(1, n_events - 1):\n",
    "    if events[i] == 1 and events[i - 1] == 1:\n",
    "        two_in_a_row += 1\n",
    "print('{}次投掷硬币，连续两次都是正面的次数{}'.format(n_events, two_in_a_row))"
   ]
  },
  {
   "cell_type": "markdown",
   "metadata": {},
   "source": [
    "## 2. 正态分布\n",
    "(numpy.random.normal)[https://docs.scipy.org/doc/numpy-1.13.0/reference/generated/numpy.random.normal.html]<br>\n",
    "从正态分布中采样"
   ]
  },
  {
   "cell_type": "code",
   "execution_count": 6,
   "metadata": {
    "collapsed": false
   },
   "outputs": [
    {
     "data": {
      "text/plain": [
       "1.331107126480794"
      ]
     },
     "execution_count": 6,
     "metadata": {},
     "output_type": "execute_result"
    }
   ],
   "source": [
    "np.random.normal(loc=0.75)"
   ]
  },
  {
   "cell_type": "code",
   "execution_count": 7,
   "metadata": {
    "collapsed": false
   },
   "outputs": [
    {
     "name": "stdout",
     "output_type": "stream",
     "text": [
      "期望： 0.76673000122\n",
      "标准差： 1.03471223052\n"
     ]
    }
   ],
   "source": [
    "samples = np.random.normal(loc=0.75, size=1000)\n",
    "\n",
    "print('期望：', np.mean(samples))\n",
    "print('标准差：', np.std(samples))"
   ]
  },
  {
   "cell_type": "code",
   "execution_count": null,
   "metadata": {
    "collapsed": true
   },
   "outputs": [],
   "source": []
  },
  {
   "cell_type": "code",
   "execution_count": null,
   "metadata": {
    "collapsed": true
   },
   "outputs": [],
   "source": []
  }
 ],
 "metadata": {
  "kernelspec": {
   "display_name": "Python 2",
   "language": "python",
   "name": "python2"
  },
  "language_info": {
   "codemirror_mode": {
    "name": "ipython",
    "version": 2
   },
   "file_extension": ".py",
   "mimetype": "text/x-python",
   "name": "python",
   "nbconvert_exporter": "python",
   "pygments_lexer": "ipython2",
   "version": "2.7.13"
  }
 },
 "nbformat": 4,
 "nbformat_minor": 2
}
