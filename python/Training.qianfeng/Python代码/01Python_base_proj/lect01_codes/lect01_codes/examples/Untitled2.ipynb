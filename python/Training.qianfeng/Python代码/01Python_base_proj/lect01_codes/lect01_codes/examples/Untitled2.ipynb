{
 "cells": [
  {
   "cell_type": "code",
   "execution_count": 2,
   "metadata": {
    "collapsed": false
   },
   "outputs": [
    {
     "name": "stdout",
     "output_type": "stream",
     "text": [
      "<type 'list'>\n",
      "[1, 'a', 2, 'b']\n",
      "[3, 'a', 2, 'b']\n",
      "[3, 'a', 2, 'b', 4]\n"
     ]
    }
   ],
   "source": [
    "l = [1, 'a', 2, 'b']\n",
    "print(type(l))\n",
    "print(l)\n",
    "\n",
    "# 修改list的内容\n",
    "l[0] = 3\n",
    "print(l)\n",
    "\n",
    "# 末尾添加元素\n",
    "l.append(4)\n",
    "print(l)"
   ]
  },
  {
   "cell_type": "code",
   "execution_count": null,
   "metadata": {
    "collapsed": true
   },
   "outputs": [],
   "source": []
  }
 ],
 "metadata": {
  "kernelspec": {
   "display_name": "Python 2",
   "language": "python",
   "name": "python2"
  },
  "language_info": {
   "codemirror_mode": {
    "name": "ipython",
    "version": 2
   },
   "file_extension": ".py",
   "mimetype": "text/x-python",
   "name": "python",
   "nbconvert_exporter": "python",
   "pygments_lexer": "ipython2",
   "version": "2.7.13"
  }
 },
 "nbformat": 4,
 "nbformat_minor": 2
}
